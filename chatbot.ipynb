{
  "nbformat": 4,
  "nbformat_minor": 0,
  "metadata": {
    "colab": {
      "provenance": [],
      "authorship_tag": "ABX9TyOXc3QE9mz9wuhORQDEsMTA",
      "include_colab_link": true
    },
    "kernelspec": {
      "name": "python3",
      "display_name": "Python 3"
    },
    "language_info": {
      "name": "python"
    }
  },
  "cells": [
    {
      "cell_type": "markdown",
      "metadata": {
        "id": "view-in-github",
        "colab_type": "text"
      },
      "source": [
        "<a href=\"https://colab.research.google.com/github/rafaelwinter01/chatbot/blob/main/chatbot.ipynb\" target=\"_parent\"><img src=\"https://colab.research.google.com/assets/colab-badge.svg\" alt=\"Open In Colab\"/></a>"
      ]
    },
    {
      "cell_type": "code",
      "execution_count": null,
      "metadata": {
        "id": "2u7vdBMzDMuw"
      },
      "outputs": [],
      "source": []
    },
    {
      "cell_type": "markdown",
      "source": [
        "Installing SDK from Google"
      ],
      "metadata": {
        "id": "1sMNNqEdDbMT"
      }
    },
    {
      "cell_type": "code",
      "execution_count": 1,
      "metadata": {
        "id": "9OEoeosRTv-5"
      },
      "outputs": [],
      "source": [
        "!pip install -q -U google-generativeai"
      ]
    },
    {
      "cell_type": "markdown",
      "source": [
        "Importing libraries"
      ],
      "metadata": {
        "id": "s7QDfvDUD1qq"
      }
    },
    {
      "cell_type": "code",
      "execution_count": 2,
      "metadata": {
        "id": "TS9l5igubpHO"
      },
      "outputs": [],
      "source": [
        "import pathlib\n",
        "import textwrap\n",
        "\n",
        "import google.generativeai as genai\n",
        "\n",
        "from IPython.display import display\n",
        "from IPython.display import Markdown\n",
        "\n",
        "\n",
        "def to_markdown(text):\n",
        "  text = text.replace('•', '  *')\n",
        "  return Markdown(textwrap.indent(text, '> ', predicate=lambda _: True))"
      ]
    },
    {
      "cell_type": "code",
      "execution_count": 4,
      "metadata": {
        "id": "d10c38a5c91f"
      },
      "outputs": [],
      "source": [
        "# Used to securely store your API key\n",
        "from google.colab import userdata"
      ]
    },
    {
      "cell_type": "code",
      "execution_count": 5,
      "metadata": {
        "id": "ab9ASynfcIZn"
      },
      "outputs": [],
      "source": [
        "# Or use `os.getenv('GOOGLE_API_KEY')` to fetch an environment variable.\n",
        "GOOGLE_API_KEY=userdata.get('GOOGLE_API_KEY')\n",
        "\n",
        "genai.configure(api_key=GOOGLE_API_KEY)"
      ]
    },
    {
      "cell_type": "markdown",
      "source": [
        "List available models"
      ],
      "metadata": {
        "id": "2Y1-_OyvEUMh"
      }
    },
    {
      "cell_type": "code",
      "source": [
        "for m in genai.list_models():\n",
        "  if 'generateContent' in m.supported_generation_methods:\n",
        "    print(m.name)"
      ],
      "metadata": {
        "colab": {
          "base_uri": "https://localhost:8080/",
          "height": 139
        },
        "id": "UTG7D2u_EX80",
        "outputId": "3ce443f6-396b-4465-b697-27c7cb2e6aab"
      },
      "execution_count": 6,
      "outputs": [
        {
          "output_type": "stream",
          "name": "stdout",
          "text": [
            "models/gemini-1.0-pro\n",
            "models/gemini-1.0-pro-001\n",
            "models/gemini-1.0-pro-latest\n",
            "models/gemini-1.0-pro-vision-latest\n",
            "models/gemini-1.5-pro-latest\n",
            "models/gemini-pro\n",
            "models/gemini-pro-vision\n"
          ]
        }
      ]
    },
    {
      "cell_type": "code",
      "source": [],
      "metadata": {
        "id": "kMJClHT4E318"
      },
      "execution_count": null,
      "outputs": []
    },
    {
      "cell_type": "code",
      "source": [
        "generation_config = {\n",
        "    \"candidate_count\": 1,\n",
        "    \"temperature\": 0.5,\n",
        "}"
      ],
      "metadata": {
        "id": "DJz6b94hFh4A"
      },
      "execution_count": 7,
      "outputs": []
    },
    {
      "cell_type": "code",
      "source": [
        "safety_settings = {\n",
        "    \"HARASSMENT\": \"BLOCK_NONE\",\n",
        "    \"HATE\": \"BLOCK_NONE\",\n",
        "    \"SEXUAL\": \"BLOCK_NONE\",\n",
        "    \"DANGEROUS\": \"BLOCK_NONE\",\n",
        "}"
      ],
      "metadata": {
        "id": "akgh9nQvFyuz"
      },
      "execution_count": 8,
      "outputs": []
    },
    {
      "cell_type": "markdown",
      "source": [
        "Setting up the model, using variables above"
      ],
      "metadata": {
        "id": "SKnkNM8sG6Fm"
      }
    },
    {
      "cell_type": "code",
      "execution_count": 10,
      "metadata": {
        "id": "2bcfnGEviwTI"
      },
      "outputs": [],
      "source": [
        "model = genai.GenerativeModel(model_name='gemini-1.0-pro',generation_config=generation_config,safety_settings=safety_settings)"
      ]
    },
    {
      "cell_type": "code",
      "execution_count": 11,
      "metadata": {
        "id": "he-OfzBbhACQ",
        "outputId": "8295ac93-0c6a-4326-f78c-153babb6751f",
        "colab": {
          "base_uri": "https://localhost:8080/",
          "height": 777
        }
      },
      "outputs": [
        {
          "output_type": "stream",
          "name": "stdout",
          "text": [
            "CPU times: user 142 ms, sys: 11.1 ms, total: 153 ms\n",
            "Wall time: 9.91 s\n"
          ]
        },
        {
          "output_type": "execute_result",
          "data": {
            "text/plain": [
              "<IPython.core.display.Markdown object>"
            ],
            "text/markdown": "> **Cars: A Technological Marvel**\n> \n> Cars, the ubiquitous mode of transportation, have become an integral part of modern society. From humble beginnings to the sleek and sophisticated machines of today, cars have evolved dramatically over the years.\n> \n> **History of Cars**\n> \n> The first automobiles were invented in the late 19th century by pioneers such as Karl Benz and Gottlieb Daimler. These early vehicles were powered by steam engines and were crude and unreliable. However, with technological advancements and the development of the internal combustion engine, cars became more efficient and accessible.\n> \n> **Types of Cars**\n> \n> Today, there is a vast array of cars available to suit different needs and preferences. Some common types include:\n> \n> * **Sedans:** Four-door cars with a traditional trunk\n> * **Hatchbacks:** Two- or four-door cars with a rear door that opens upward, providing access to a cargo area\n> * **SUVs (Sport Utility Vehicles):** Larger, taller vehicles with off-road capabilities\n> * **Crossovers:** Vehicles that combine features of sedans and SUVs\n> * **Sports cars:** High-performance vehicles designed for speed and handling\n> * **Electric cars:** Vehicles powered by electric motors and batteries\n> \n> **Benefits of Cars**\n> \n> Cars offer numerous benefits, including:\n> \n> * **Convenience:** Cars provide door-to-door transportation, making it easy to travel to work, school, or other destinations.\n> * **Mobility:** Cars allow for greater freedom of movement, enabling people to explore new places and connect with others.\n> * **Safety:** Modern cars are equipped with advanced safety features, such as airbags, anti-lock brakes, and lane departure warnings, reducing the risk of accidents.\n> * **Comfort:** Cars provide a comfortable and enclosed environment, protecting passengers from the elements and road noise.\n> \n> **Environmental Impact of Cars**\n> \n> While cars offer many benefits, they can also have a significant environmental impact. Internal combustion engines emit greenhouse gases, which contribute to climate change. However, advancements in fuel efficiency and the development of electric cars are reducing the environmental footprint of cars.\n> \n> **Future of Cars**\n> \n> The future of cars is poised for exciting developments. Autonomous vehicles, which can drive themselves without human input, are being tested and are expected to revolutionize transportation. Electric cars are also gaining popularity, offering a cleaner and more sustainable alternative to gasoline-powered vehicles.\n> \n> **Conclusion**\n> \n> Cars have come a long way since their humble beginnings. They have become an indispensable part of our lives, providing convenience, mobility, safety, and comfort. As technology continues to advance, we can expect to see even more innovative and sustainable cars in the years to come."
          },
          "metadata": {},
          "execution_count": 11
        }
      ],
      "source": [
        "%%time\n",
        "response = model.generate_content(\"Talk about cars\")\n",
        "to_markdown(response.text)"
      ]
    },
    {
      "cell_type": "markdown",
      "source": [
        "Chatbot start"
      ],
      "metadata": {
        "id": "PqUjgTwYHluR"
      }
    },
    {
      "cell_type": "code",
      "source": [
        "chat = model.start_chat(history=[], )"
      ],
      "metadata": {
        "id": "ciTuLxWoHbh8"
      },
      "execution_count": 12,
      "outputs": []
    },
    {
      "cell_type": "code",
      "source": [
        "prompt = input(\"Question: \")\n",
        "while prompt != \"end\":\n",
        "  response = chat.send_message(prompt)\n",
        "  print(\"Answer: \", response.text, \"\\n\")\n",
        "  prompt = input(\"Question: \")\n"
      ],
      "metadata": {
        "colab": {
          "base_uri": "https://localhost:8080/",
          "height": 139
        },
        "id": "-vMu9GJfH1cy",
        "outputId": "21cf6ae7-6e2d-49f8-e34b-fb3e5d31f222"
      },
      "execution_count": 15,
      "outputs": [
        {
          "name": "stdout",
          "output_type": "stream",
          "text": [
            "Question:qual capital do Brasil?\n",
            "Answer: Brasília \n",
            "\n",
            "Question:quando foi fundada?\n",
            "Answer: 21 de abril de 1960 \n",
            "\n",
            "Question:end\n"
          ]
        }
      ]
    },
    {
      "cell_type": "code",
      "source": [
        "chat.history"
      ],
      "metadata": {
        "colab": {
          "base_uri": "https://localhost:8080/"
        },
        "id": "yGan6UJnI9qr",
        "outputId": "7667b9fc-3d78-41c7-e32b-5970f710402c"
      },
      "execution_count": 16,
      "outputs": [
        {
          "output_type": "execute_result",
          "data": {
            "text/plain": [
              "[parts {\n",
              "   text: \"fala qual foi a ultima copa do mundo\"\n",
              " }\n",
              " role: \"user\",\n",
              " parts {\n",
              "   text: \"2022\"\n",
              " }\n",
              " role: \"model\",\n",
              " parts {\n",
              "   text: \"quem ganhou?\"\n",
              " }\n",
              " role: \"user\",\n",
              " parts {\n",
              "   text: \"Argentina\"\n",
              " }\n",
              " role: \"model\",\n",
              " parts {\n",
              "   text: \"qual capital do Brasil?\"\n",
              " }\n",
              " role: \"user\",\n",
              " parts {\n",
              "   text: \"Bras\\303\\255lia\"\n",
              " }\n",
              " role: \"model\",\n",
              " parts {\n",
              "   text: \"quando foi fundada?\"\n",
              " }\n",
              " role: \"user\",\n",
              " parts {\n",
              "   text: \"21 de abril de 1960\"\n",
              " }\n",
              " role: \"model\"]"
            ]
          },
          "metadata": {},
          "execution_count": 16
        }
      ]
    }
  ]
}